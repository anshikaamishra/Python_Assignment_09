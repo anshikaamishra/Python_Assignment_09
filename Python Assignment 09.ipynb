{
 "cells": [
  {
   "cell_type": "markdown",
   "id": "193cac75-db6f-4691-b876-518d7269b0cb",
   "metadata": {},
   "source": [
    "## Python Assignment 09"
   ]
  },
  {
   "cell_type": "markdown",
   "id": "89fa21a2-3e86-4309-9f1c-8dfa557b5136",
   "metadata": {},
   "source": [
    "**Q1, Create a vehicle class with an init method having instance variables as name_of_vehicle, max_speed and average_of_vehicle.**"
   ]
  },
  {
   "cell_type": "code",
   "execution_count": 1,
   "id": "7aaee108-27cf-4807-a8f2-8186cf5dfc60",
   "metadata": {},
   "outputs": [],
   "source": [
    "class vehicle :\n",
    "    \n",
    "    def __init__(self, name_of_vehicle, max_speed, average_of_vehicle) :\n",
    "        self.name_of_vehicle = name_of_vehicle\n",
    "        self.max_speed = max_speed\n",
    "        self.average_of_vehicle = average_of_vehicle\n",
    "        "
   ]
  },
  {
   "cell_type": "markdown",
   "id": "23560ea1-8ba1-40c5-b21c-6f88bbf2b9b1",
   "metadata": {},
   "source": [
    "**Q2. Create a child class car from the vehicle class created in Que 1, which will inherit the vehicle class.\n",
    "Create a method named seating_capacity which takes capacity as an argument and returns the name of\n",
    "the vehicle and its seating capacity.**"
   ]
  },
  {
   "cell_type": "code",
   "execution_count": 2,
   "id": "a9c7665c-37bb-416f-b520-cbf5c2d34cc2",
   "metadata": {},
   "outputs": [
    {
     "name": "stdout",
     "output_type": "stream",
     "text": [
      "Name of Vehicle:Kia Seltos, Seating Capacity:9\n"
     ]
    }
   ],
   "source": [
    "class car(vehicle) :\n",
    "    \n",
    "    def seating_capacity(self, capacity) :\n",
    "        print(f\"Name of Vehicle:{self.name_of_vehicle}, Seating Capacity:{capacity}\")\n",
    "        \n",
    "#creating object of the class car\n",
    "Car = car(\"Kia Seltos\", \"120km/hr\", \"80km/hr\")\n",
    "Car.seating_capacity(9)"
   ]
  },
  {
   "cell_type": "markdown",
   "id": "785ef657-7ad5-4450-976c-40ffb8f3ad79",
   "metadata": {},
   "source": [
    "**Q3. What is multiple inheritance? Write a python code to demonstrate multiple inheritance.**"
   ]
  },
  {
   "cell_type": "markdown",
   "id": "47f8c475-947c-47f4-967e-ec0832956bc6",
   "metadata": {},
   "source": [
    "- Multiple inheritance is a feature in object-oriented programming where a class can inherit attributes and methods from multiple parent classes. This means that a derived class can extend the functionality of multiple base classes.\n",
    "\n",
    "- In Python, multiple inheritance is supported, allowing a class to inherit from more than one parent class. To demonstrate multiple inheritance, consider the following example:"
   ]
  },
  {
   "cell_type": "code",
   "execution_count": 4,
   "id": "4e50953c-6094-45bf-8494-9498b782b5de",
   "metadata": {},
   "outputs": [
    {
     "name": "stdout",
     "output_type": "stream",
     "text": [
      "Method 1 from ParentClass1\n",
      "Method 2 from ParentClass2\n",
      "Method 3 from ChildClass\n"
     ]
    }
   ],
   "source": [
    "class ParentClass1:\n",
    "    def method1(self):\n",
    "        print(\"Method 1 from ParentClass1\")\n",
    "\n",
    "class ParentClass2:\n",
    "    def method2(self):\n",
    "        print(\"Method 2 from ParentClass2\")\n",
    "\n",
    "class ChildClass(ParentClass1, ParentClass2):\n",
    "    def method3(self):\n",
    "        print(\"Method 3 from ChildClass\")\n",
    "\n",
    "# Creating an object of the ChildClass\n",
    "obj = ChildClass()\n",
    "\n",
    "# Calling methods from ParentClass1\n",
    "obj.method1()  \n",
    "\n",
    "# Calling methods from ParentClass2\n",
    "obj.method2()  \n",
    "\n",
    "# Calling method from ChildClass\n",
    "obj.method3()  \n"
   ]
  },
  {
   "cell_type": "markdown",
   "id": "c4c0453f-c10c-41aa-93e3-ec81ee70ac92",
   "metadata": {},
   "source": [
    "- In this example, we have two parent classes, ParentClass1 and ParentClass2, each with its own methods. The ChildClass inherits from both ParentClass1 and ParentClass2 using multiple inheritance.\n",
    "\n",
    "- The 'ChildClass' can access and use the methods from both parent classes as well as define its own methods. When an object of 'ChildClass' is created, it inherits all the methods from 'ParentClass1' and 'ParentClass2'\n",
    "\n",
    "- By calling 'obj.method1()', we invoke the method from 'ParentClass1', and by calling 'obj.method2()', we invoke the method from 'ParentClass2'. Finally, we can also call the method 'method3()' defined within 'ChildClass'.\n",
    "\n",
    "- Multiple inheritance allows for more flexibility in creating class hierarchies and reusing code from multiple sources. However, it also introduces the challenge of potential naming conflicts and requires careful consideration of class design to maintain code clarity and avoid ambiguity."
   ]
  },
  {
   "cell_type": "markdown",
   "id": "4d87a25d-0dfa-4150-a6ac-3ded1955207d",
   "metadata": {},
   "source": [
    "**Q4. What are getter and setter in python? Create a class and create a getter and a setter method in this class.**"
   ]
  },
  {
   "cell_type": "markdown",
   "id": "e9bc13f6-d22d-48e1-9837-8f2f9c7b26dc",
   "metadata": {},
   "source": [
    "- Getters and setters are methods used to retrieve and modify the values of private attributes (variables) in a class. They provide controlled access to the attributes by encapsulating them within methods, allowing for data abstraction and validation.\n",
    "\n",
    "- In Python, getters and setters are typically implemented using properties. Here's an example that demonstrates the creation of a class with getter and setter methods:"
   ]
  },
  {
   "cell_type": "code",
   "execution_count": 1,
   "id": "11a8087d-9fab-407f-b95b-9c9feaa187b3",
   "metadata": {},
   "outputs": [
    {
     "name": "stdout",
     "output_type": "stream",
     "text": [
      "None\n",
      "42\n"
     ]
    }
   ],
   "source": [
    "class MyClass:\n",
    "    def __init__(self):\n",
    "        self._my_attribute = None\n",
    "\n",
    "    def get_my_attribute(self):\n",
    "        return self._my_attribute\n",
    "\n",
    "    def set_my_attribute(self, value):\n",
    "        # Perform any desired validation or modification\n",
    "        self._my_attribute = value\n",
    "\n",
    "# Creating an instance of MyClass\n",
    "obj = MyClass()\n",
    "\n",
    "# Using the getter method\n",
    "value = obj.get_my_attribute()\n",
    "print(value)  \n",
    "\n",
    "# Using the setter method\n",
    "obj.set_my_attribute(42)\n",
    "\n",
    "# Using the getter method again\n",
    "value = obj.get_my_attribute()\n",
    "print(value)  \n"
   ]
  },
  {
   "cell_type": "markdown",
   "id": "fb9578d4-23f9-404e-8354-6e58426e2f6a",
   "metadata": {},
   "source": [
    "- In this example, we have a class called MyClass that has a private attribute _my_attribute. The getter method get_my_attribute() returns the value of _my_attribute, while the setter method set_my_attribute() allows us to modify its value.\n",
    "- By using the getter method, we can retrieve the value of '_my_attribute'. In the initial state, the value is 'None'. After using the setter method to set '_my_attribute' to '42', we can call the getter method again and obtain the updated value."
   ]
  },
  {
   "cell_type": "markdown",
   "id": "a9f4fccc-d893-4bd1-8531-a48f49b99a71",
   "metadata": {},
   "source": [
    "**Q5.What is method overriding in python? Write a python code to demonstrate method overriding.**"
   ]
  },
  {
   "cell_type": "markdown",
   "id": "770e3f26-6c52-4eea-9d81-19966ed90625",
   "metadata": {},
   "source": [
    "- Method overriding is a concept in object-oriented programming where a subclass provides a specific implementation for a method that is already defined in its superclass. The overridden method in the subclass replaces the behavior of the method in the superclass, allowing the subclass to customize or extend the functionality provided by the superclass.\n",
    "- To demonstrate method overriding in Python, let's create a base class 'Animal' with a method 'make_sound()', and then create a derived class 'Dog' that overrides the 'make_sound()' method:"
   ]
  },
  {
   "cell_type": "code",
   "execution_count": 4,
   "id": "7f58c6f8-af45-4a20-9f79-f5830c5e93fb",
   "metadata": {},
   "outputs": [
    {
     "name": "stdout",
     "output_type": "stream",
     "text": [
      "Generic animal sound\n",
      "Woof! Woof!\n",
      "Meow! Meow!\n"
     ]
    }
   ],
   "source": [
    "class Animal:\n",
    "    def make_sound(self):\n",
    "        print(\"Generic animal sound\")\n",
    "\n",
    "class Dog(Animal):\n",
    "    def make_sound(self):\n",
    "        print(\"Woof! Woof!\")\n",
    "        \n",
    "class Cat(Animal):\n",
    "    def make_sound(self):\n",
    "        print(\"Meow! Meow!\")\n",
    "\n",
    "# Creating objects of both classes\n",
    "animal_obj = Animal()\n",
    "dog_obj = Dog()\n",
    "cat_obj = Cat()\n",
    "\n",
    "# Calling the method on each object\n",
    "animal_obj.make_sound() \n",
    "dog_obj.make_sound() \n",
    "cat_obj.make_sound()\n"
   ]
  },
  {
   "cell_type": "markdown",
   "id": "1572ff15-2b66-46ff-b8a1-dd3a0c682e82",
   "metadata": {},
   "source": [
    "- In this example, we have a base class Animal with a method make_sound(), which prints a generic animal sound. The derived class Dog inherits from the Animal class and overrides the make_sound() method to print \"Woof! Woof!\".\n",
    "\n",
    "- When we create an object of Animal and call the make_sound() method, it prints the generic animal sound. However, when we create an object of Dog and call the make_sound() method, it prints \"Woof! Woof!\" instead of the generic sound. This is because the method has been overridden in the Dog class, and the subclass implementation takes precedence over the superclass implementation.\n",
    "- Method overriding allows us to customize behavior for specific subclasses while still maintaining a common interface through inheritance."
   ]
  },
  {
   "cell_type": "code",
   "execution_count": null,
   "id": "e464deea-5498-4618-bc28-4e48e3149236",
   "metadata": {},
   "outputs": [],
   "source": []
  }
 ],
 "metadata": {
  "kernelspec": {
   "display_name": "Python 3 (ipykernel)",
   "language": "python",
   "name": "python3"
  },
  "language_info": {
   "codemirror_mode": {
    "name": "ipython",
    "version": 3
   },
   "file_extension": ".py",
   "mimetype": "text/x-python",
   "name": "python",
   "nbconvert_exporter": "python",
   "pygments_lexer": "ipython3",
   "version": "3.10.8"
  }
 },
 "nbformat": 4,
 "nbformat_minor": 5
}
